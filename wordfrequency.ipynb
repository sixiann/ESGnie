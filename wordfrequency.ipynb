{
 "cells": [
  {
   "cell_type": "code",
   "execution_count": null,
   "id": "f3560c21",
   "metadata": {},
   "outputs": [],
   "source": [
    "def wordfreq(l_ticker, groupby_variable):\n",
    "    '''\n",
    "    inputs:\n",
    "    df = df_cell files\n",
    "    groupby_variable = variable to group words by \n",
    "    \n",
    "    '''\n",
    "\n",
    "    finalITEMS = pd.DataFrame()\n",
    "    finalNONQUANT = pd.DataFrame()\n",
    "    \n",
    "    \n",
    "    for ticker in l_ticker: \n",
    "        l_files = get_company_files(s3_client, ticker=ticker, filename_pattern='^df_cells')\n",
    "        for file in l_files:\n",
    "            obj = s3_client.get_object(Bucket='esgnie', Key=file)\n",
    "            df = pd.read_csv(obj['Body'])\n",
    "            header_rows, nonquantrows, items, df2 = quants_parser(df)\n",
    "            \n",
    "            \n",
    "            finalITEMS = finalITEMS.append(items)\n",
    "            finalNONQUANT = finalNONQUANT.append(nonquantrows)\n",
    "\n",
    "    \n",
    "    \n",
    "    items = commonwords(finalITEMS)\n",
    "    nonquant = commonwords(finalNONQUANT)\n",
    "    overall = items.rename(columns={\"freq\": \"freq_quant_row\", \"proportion\": \"proportion_quant_row\"})\n",
    "    \n",
    "    \n",
    "    freq_nonquant_row = []\n",
    "    proportion_nonquant_row = []\n",
    "\n",
    "    for word in items.word:\n",
    "        if word in list(nonquant.word):\n",
    "            freq_nonquant_row.append(int(nonquant[nonquant.word == word].freq))\n",
    "            proportion_nonquant_row.append(float(nonquant[nonquant.word == word].proportion))\n",
    "        else:\n",
    "            freq_nonquant_row.append(0)\n",
    "            proportion_nonquant_row.append(0)\n",
    "        \n",
    "    overall[\"freq_nonquant_row\"] = freq_nonquant_row\n",
    "    overall[\"proportion_nonquant_row\"] = proportion_nonquant_row\n",
    "    overall[\"freq_diff\"] = np.array(overall.freq_quant_row) - np.array(freq_nonquant_row)\n",
    "    overall[\"proportion_diff\"] = np.array(overall.proportion_quant_row) - np.array(proportion_nonquant_row)\n",
    "    \n",
    "    overall.sort_values(by=['proportion_diff'], ascending = False, inplace = True)\n",
    "    "
   ]
  }
 ],
 "metadata": {
  "kernelspec": {
   "display_name": "Python 3",
   "language": "python",
   "name": "python3"
  },
  "language_info": {
   "codemirror_mode": {
    "name": "ipython",
    "version": 3
   },
   "file_extension": ".py",
   "mimetype": "text/x-python",
   "name": "python",
   "nbconvert_exporter": "python",
   "pygments_lexer": "ipython3",
   "version": "3.8.8"
  }
 },
 "nbformat": 4,
 "nbformat_minor": 5
}
